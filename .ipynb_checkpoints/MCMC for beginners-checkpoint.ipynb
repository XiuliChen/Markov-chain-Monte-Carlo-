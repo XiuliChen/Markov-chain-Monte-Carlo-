{
 "cells": [
  {
   "cell_type": "markdown",
   "metadata": {},
   "source": [
    "# Set up the problem\n",
    "https://twiecki.io/blog/2015/11/10/mcmc-sampling/\n",
    "\n",
    "\n",
    "## Data\n",
    "We have some data sampled from a normal distribution (mean=0, std=2). The goal is to estimate the posterior of the mean, assuming that we know the std."
   ]
  },
  {
   "cell_type": "code",
   "execution_count": 9,
   "metadata": {},
   "outputs": [],
   "source": [
    "%matplotlib inline\n",
    "import numpy as np\n",
    "import scipy as sp\n",
    "import pandas as pd\n",
    "import matplotlib.pyplot as plt\n",
    "import seaborn as sns\n",
    "\n",
    "from scipy.stats import norm\n"
   ]
  },
  {
   "cell_type": "code",
   "execution_count": 10,
   "metadata": {},
   "outputs": [
    {
     "data": {
      "image/png": "[encoded data removed]",
      "text/plain": [
       "<Figure size 432x288 with 1 Axes>"
      ]
     },
     "metadata": {
      "needs_background": "light"
     },
     "output_type": "display_data"
    }
   ],
   "source": [
    "np.random.seed(123)\n",
    "data_mu=0\n",
    "data_sigma=2\n",
    "\n",
    "data=np.random.normal(data_mu,data_sigma,100)\n",
    "# plot the data\n",
    "plt.hist(data)\n",
    "plt.xlabel('x')\n",
    "plt.ylabel('# observations')\n",
    "plt.show()"
   ]
  },
  {
   "cell_type": "markdown",
   "metadata": {},
   "source": [
    "When we have the data, we do not know that the data is normally distributed. However, let say we assumed that the data is normally distributed (with mean $\\mu$ and standard deviation $\\sigma$). In the first case, we assume that we know that $\\sigma=2$. We only want to infer the mean $\\mu$.\n",
    "\n",
    "## Prior\n",
    "Firstly, our prior of the mean $\\mu$ is a also a Normal distribution with prior_mu=0, prior_sigma=1."
   ]
  },
  {
   "cell_type": "markdown",
   "metadata": {},
   "source": [
    "$$ \\mu \\sim \\mathcal{N} (0,1)$$ \n",
    "$$ x|\\mu \\sim \\mathcal{N} (x;\\mu,2)$$"
   ]
  },
  {
   "cell_type": "code",
   "execution_count": 11,
   "metadata": {},
   "outputs": [],
   "source": [
    "prior_mu=0\n",
    "prior_sigma=1"
   ]
  },
  {
   "cell_type": "markdown",
   "metadata": {},
   "source": [
    "### Compute the posterior analytically\n",
    "We can compute the posterior analytically, because for a normal likelihood with known standard deviation, the normal prior for $\\mu$ is conjugate (**conjugate here means that our posterior will follow the same distribution as the prior**), so we know that our posterior for μ is also normal. We can easily look up on wikipedia how we can compute the parameters of the posterior. "
   ]
  },
  {
   "cell_type": "markdown",
   "metadata": {},
   "source": [
    "## However\n",
    "If our prior wasn't conjugate, then and we couldn't solve this by hand, which is usually the case."
   ]
  },
  {
   "cell_type": "markdown",
   "metadata": {},
   "source": [
    "## MCMC sampling\n",
    "At first, you start with a arbitory guess, e.g., `mu_current=1`. Then you propose to move (jump) from current guess to somewhere else (The Markov part). There various ways to come up with this proposal. The Metropolis samplers just takes a sample from a normal distribution centered around you current mu value (i.e., `mu_current`), with a certain standard deviation (reffered as `proposal_width`) that will determine how far you propose jumps."
   ]
  },
  {
   "cell_type": "code",
   "execution_count": 7,
   "metadata": {},
   "outputs": [
    {
     "name": "stdout",
     "output_type": "stream",
     "text": [
      "1.3210273446359158\n"
     ]
    }
   ],
   "source": [
    "mu_current=1\n",
    "\n",
    "# make new guess\n",
    "proposal_width=0.5\n",
    "proposal=norm(mu_current, proposal_width).rvs()\n",
    "print(proposal)"
   ]
  },
  {
   "cell_type": "markdown",
   "metadata": {},
   "source": [
    "Next, you evaluate if that is a good place to jump to or not. If the new `proposal` explain the data better than the old `mu`, then you want to go there. what does 'explains the data better' mean? We quantify by calculating the probability of the data given the likelihood with the proposed values (`mu=proposal, sigma=1` vs `mu=mu_current, sigma=1`)."
   ]
  },
  {
   "cell_type": "code",
   "execution_count": 13,
   "metadata": {},
   "outputs": [
    {
     "name": "stdout",
     "output_type": "stream",
     "text": [
      "p_current=3.0611220397619436e-171\n",
      "p_proposal=1.1530913141563056e-186\n"
     ]
    }
   ],
   "source": [
    "# Assume that we know the data_sigma, only want to infet data_mu\n",
    "\n",
    "# step 1: prior\n",
    "# As mentioned, our prior of the data_mu is also a normal distribution (prior_mu, prior_sigma)\n",
    "prior_current=norm(prior_mu,prior_sigma).pdf(mu_current)\n",
    "prior_proposal=norm(prior_mu,prior_sigma).pdf(proposal)\n",
    "\n",
    "\n",
    "\n",
    "\n",
    "likelihood_current=norm(mu_current,data_sigma).pdf(data).prod()\n",
    "likelihood_proposal=norm(proposal,data_sigma).pdf(data).prod()\n",
    "\n",
    "\n",
    "\n",
    "\n",
    "#\n",
    "p_current=prior_current*likelihood_current\n",
    "p_proposal=prior_proposal*likelihood_proposal\n",
    "\n",
    "print(f'p_current={p_current}')\n",
    "print(f'p_proposal={p_proposal}')\n"
   ]
  }
 ],
 "metadata": {
  "kernelspec": {
   "display_name": "Python 3",
   "language": "python",
   "name": "python3"
  },
  "language_info": {
   "codemirror_mode": {
    "name": "ipython",
    "version": 3
   },
   "file_extension": ".py",
   "mimetype": "text/x-python",
   "name": "python",
   "nbconvert_exporter": "python",
   "pygments_lexer": "ipython3",
   "version": "3.6.9"
  }
 },
 "nbformat": 4,
 "nbformat_minor": 4
}
