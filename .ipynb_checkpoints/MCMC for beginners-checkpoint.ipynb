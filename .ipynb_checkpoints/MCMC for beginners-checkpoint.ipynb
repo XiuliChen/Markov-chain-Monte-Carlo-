{
 "cells": [
  {
   "cell_type": "markdown",
   "metadata": {},
   "source": [
    "# Set up the problem\n",
    "\n",
    "We have some data sampled from a normal distribution (mean=0, std=1). The goal is to estimate the posterior of the mean, assuming that we know the std."
   ]
  },
  {
   "cell_type": "code",
   "execution_count": 5,
   "metadata": {},
   "outputs": [],
   "source": [
    "%matplotlib inline\n",
    "import numpy as np\n",
    "import scipy as sp\n",
    "import pandas as pd\n",
    "import matplotlib.pyplot as plt\n",
    "import seaborn as sns\n",
    "\n",
    "from scipy.stats import norm\n",
    "\n",
    "np.random.seed(123)"
   ]
  },
  {
   "cell_type": "code",
   "execution_count": 8,
   "metadata": {},
   "outputs": [
    {
     "data": {
      "image/png": "[encoded data removed]",
      "text/plain": [
       "<Figure size 432x288 with 1 Axes>"
      ]
     },
     "metadata": {
      "needs_background": "light"
     },
     "output_type": "display_data"
    }
   ],
   "source": [
    "data=np.random.randn(100)\n",
    "# plot the data\n",
    "plt.hist(data)\n",
    "plt.xlabel('x')\n",
    "plt.ylabel('# observations')\n",
    "plt.show()"
   ]
  },
  {
   "cell_type": "markdown",
   "metadata": {},
   "source": [
    "When we have the data, we do not know that the data is normally distributed. However, let say we assumed that the data is normally distributed (with mean $\\mu$ and standard deviation $\\sigma$). In the first case, we assume that we know that $\\sigma=1$. We only want to infer the mean $\\mu$.\n",
    "\n",
    "Firstly, our prior of the mean $\\mu$ is a also a Normal distribution $$"
   ]
  }
 ],
 "metadata": {
  "kernelspec": {
   "display_name": "Python 3",
   "language": "python",
   "name": "python3"
  },
  "language_info": {
   "codemirror_mode": {
    "name": "ipython",
    "version": 3
   },
   "file_extension": ".py",
   "mimetype": "text/x-python",
   "name": "python",
   "nbconvert_exporter": "python",
   "pygments_lexer": "ipython3",
   "version": "3.6.9"
  }
 },
 "nbformat": 4,
 "nbformat_minor": 4
}
